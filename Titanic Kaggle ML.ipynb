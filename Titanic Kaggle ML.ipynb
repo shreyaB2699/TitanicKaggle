{
 "cells": [
  {
   "cell_type": "markdown",
   "metadata": {},
   "source": [
    "###### Titanic Dataset Kaggle - Machine Learning Prediction\n",
    "\n",
    " -- By Shreya Bhatnagar"
   ]
  },
  {
   "cell_type": "code",
   "execution_count": 1,
   "metadata": {},
   "outputs": [],
   "source": [
    "# IMPORTING LIBRARIES\n",
    "\n",
    "import pandas as pd\n",
    "from sklearn.tree import DecisionTreeRegressor\n",
    "from sklearn.ensemble import RandomForestRegressor\n",
    "from sklearn.linear_model import LinearRegression\n",
    "from sklearn.metrics import mean_absolute_error\n",
    "from sklearn.impute import SimpleImputer\n",
    "from sklearn.model_selection import train_test_split"
   ]
  },
  {
   "cell_type": "code",
   "execution_count": 2,
   "metadata": {},
   "outputs": [
    {
     "data": {
      "text/plain": [
       "Index(['PassengerId', 'Survived', 'Pclass', 'Name', 'Sex', 'Age', 'SibSp',\n",
       "       'Parch', 'Ticket', 'Fare', 'Cabin', 'Embarked'],\n",
       "      dtype='object')"
      ]
     },
     "execution_count": 2,
     "metadata": {},
     "output_type": "execute_result"
    }
   ],
   "source": [
    "# GETTING THE TRAINING DATA\n",
    "\n",
    "data = pd.read_csv('train.csv')\n",
    "data.columns"
   ]
  },
  {
   "cell_type": "code",
   "execution_count": 4,
   "metadata": {},
   "outputs": [
    {
     "name": "stdout",
     "output_type": "stream",
     "text": [
      "     Pclass     Sex   Age  SibSp  Parch     Fare\n",
      "0         3    male  22.0      1      0   7.2500\n",
      "1         1  female  38.0      1      0  71.2833\n",
      "2         3  female  26.0      0      0   7.9250\n",
      "3         1  female  35.0      1      0  53.1000\n",
      "4         3    male  35.0      0      0   8.0500\n",
      "..      ...     ...   ...    ...    ...      ...\n",
      "886       2    male  27.0      0      0  13.0000\n",
      "887       1  female  19.0      0      0  30.0000\n",
      "888       3  female   NaN      1      2  23.4500\n",
      "889       1    male  26.0      0      0  30.0000\n",
      "890       3    male  32.0      0      0   7.7500\n",
      "\n",
      "[891 rows x 6 columns]\n"
     ]
    }
   ],
   "source": [
    "# Deciding features\n",
    "\n",
    "features = ['Pclass','Sex','Age','SibSp','Parch','Fare']\n",
    "feat_data = data[features]\n",
    "print(feat_data)\n",
    "survival = data['Survived']"
   ]
  },
  {
   "cell_type": "code",
   "execution_count": 5,
   "metadata": {},
   "outputs": [
    {
     "name": "stdout",
     "output_type": "stream",
     "text": [
      "     Pclass Sex   Age  SibSp  Parch     Fare\n",
      "0         3   0  22.0      1      0   7.2500\n",
      "1         1   1  38.0      1      0  71.2833\n",
      "2         3   1  26.0      0      0   7.9250\n",
      "3         1   1  35.0      1      0  53.1000\n",
      "4         3   0  35.0      0      0   8.0500\n",
      "..      ...  ..   ...    ...    ...      ...\n",
      "886       2   0  27.0      0      0  13.0000\n",
      "887       1   1  19.0      0      0  30.0000\n",
      "888       3   1   NaN      1      2  23.4500\n",
      "889       1   0  26.0      0      0  30.0000\n",
      "890       3   0  32.0      0      0   7.7500\n",
      "\n",
      "[891 rows x 6 columns]\n"
     ]
    },
    {
     "name": "stderr",
     "output_type": "stream",
     "text": [
      "C:\\Anaconda\\lib\\site-packages\\ipykernel_launcher.py:5: SettingWithCopyWarning: \n",
      "A value is trying to be set on a copy of a slice from a DataFrame\n",
      "\n",
      "See the caveats in the documentation: https://pandas.pydata.org/pandas-docs/stable/user_guide/indexing.html#returning-a-view-versus-a-copy\n",
      "  \"\"\"\n",
      "C:\\Anaconda\\lib\\site-packages\\IPython\\core\\interactiveshell.py:3331: SettingWithCopyWarning: \n",
      "A value is trying to be set on a copy of a slice from a DataFrame\n",
      "\n",
      "See the caveats in the documentation: https://pandas.pydata.org/pandas-docs/stable/user_guide/indexing.html#returning-a-view-versus-a-copy\n",
      "  exec(code_obj, self.user_global_ns, self.user_ns)\n",
      "C:\\Anaconda\\lib\\site-packages\\ipykernel_launcher.py:7: SettingWithCopyWarning: \n",
      "A value is trying to be set on a copy of a slice from a DataFrame\n",
      "\n",
      "See the caveats in the documentation: https://pandas.pydata.org/pandas-docs/stable/user_guide/indexing.html#returning-a-view-versus-a-copy\n",
      "  import sys\n"
     ]
    }
   ],
   "source": [
    "# Changing the values of Sex to numerical data\n",
    "\n",
    "for i in range(len(feat_data['Sex'])):\n",
    "    if feat_data['Sex'][i] == 'male':\n",
    "        feat_data['Sex'][i] = 0\n",
    "    elif feat_data['Sex'][i] == 'female':\n",
    "        feat_data['Sex'][i] = 1\n",
    "\n",
    "print(feat_data)\n"
   ]
  },
  {
   "cell_type": "code",
   "execution_count": 6,
   "metadata": {},
   "outputs": [
    {
     "name": "stdout",
     "output_type": "stream",
     "text": [
      "     Pclass Sex   Age  SibSp  Parch     Fare\n",
      "496       1   1  54.0      1      0  78.2667\n",
      "14        3   1  14.0      0      0   7.8542\n",
      "82        3   1   NaN      0      0   7.7875\n",
      "657       3   1  32.0      1      1  15.5000\n",
      "388       3   0   NaN      0      0   7.7292\n",
      "..      ...  ..   ...    ...    ...      ...\n",
      "715       3   0  19.0      0      0   7.6500\n",
      "767       3   1  30.5      0      0   7.7500\n",
      "72        2   0  21.0      0      0  73.5000\n",
      "235       3   1   NaN      0      0   7.5500\n",
      "37        3   0  21.0      0      0   8.0500\n",
      "\n",
      "[596 rows x 6 columns]\n",
      "     Pclass Sex   Age  SibSp  Parch     Fare\n",
      "862       1   1  48.0      0      0  25.9292\n",
      "223       3   0   NaN      0      0   7.8958\n",
      "84        2   1  17.0      0      0  10.5000\n",
      "680       3   1   NaN      0      0   8.1375\n",
      "535       2   1   7.0      0      2  26.2500\n",
      "..      ...  ..   ...    ...    ...      ...\n",
      "824       3   0   2.0      4      1  39.6875\n",
      "408       3   0  21.0      0      0   7.7750\n",
      "678       3   1  43.0      1      6  46.9000\n",
      "688       3   0  18.0      0      0   7.7958\n",
      "832       3   0   NaN      0      0   7.2292\n",
      "\n",
      "[295 rows x 6 columns]\n",
      "496    1\n",
      "14     0\n",
      "82     1\n",
      "657    0\n",
      "388    0\n",
      "      ..\n",
      "715    0\n",
      "767    0\n",
      "72     0\n",
      "235    0\n",
      "37     0\n",
      "Name: Survived, Length: 596, dtype: int64\n",
      "862    1\n",
      "223    0\n",
      "84     1\n",
      "680    0\n",
      "535    1\n",
      "      ..\n",
      "824    0\n",
      "408    0\n",
      "678    0\n",
      "688    0\n",
      "832    0\n",
      "Name: Survived, Length: 295, dtype: int64\n"
     ]
    }
   ],
   "source": [
    "# SPLITTING THIS DATA INTO TRAIN-TEST FOR ALGOs\n",
    "\n",
    "X_train,X_test,y_train,y_test = train_test_split(feat_data, survival, test_size=0.33, random_state=1)\n",
    "\n",
    "print(X_train)\n",
    "print(X_test)\n",
    "print(y_train)\n",
    "print(y_test)\n"
   ]
  },
  {
   "cell_type": "code",
   "execution_count": 7,
   "metadata": {},
   "outputs": [],
   "source": [
    "# IMPUTING\n",
    "\n",
    "my_imputer = SimpleImputer()\n",
    "imputed_X_train = pd.DataFrame(my_imputer.fit_transform(X_train))\n",
    "imputed_X_test = pd.DataFrame(my_imputer.transform(X_test))\n",
    "\n",
    "# Imputation removed column names; put them back\n",
    "imputed_X_train.columns = X_train.columns\n",
    "imputed_X_test.columns = X_test.columns"
   ]
  },
  {
   "cell_type": "code",
   "execution_count": 8,
   "metadata": {},
   "outputs": [
    {
     "name": "stdout",
     "output_type": "stream",
     "text": [
      "     Pclass  Sex        Age  SibSp  Parch     Fare\n",
      "0       1.0  1.0  54.000000    1.0    0.0  78.2667\n",
      "1       3.0  1.0  14.000000    0.0    0.0   7.8542\n",
      "2       3.0  1.0  30.340381    0.0    0.0   7.7875\n",
      "3       3.0  1.0  32.000000    1.0    1.0  15.5000\n",
      "4       3.0  0.0  30.340381    0.0    0.0   7.7292\n",
      "..      ...  ...        ...    ...    ...      ...\n",
      "591     3.0  0.0  19.000000    0.0    0.0   7.6500\n",
      "592     3.0  1.0  30.500000    0.0    0.0   7.7500\n",
      "593     2.0  0.0  21.000000    0.0    0.0  73.5000\n",
      "594     3.0  1.0  30.340381    0.0    0.0   7.5500\n",
      "595     3.0  0.0  21.000000    0.0    0.0   8.0500\n",
      "\n",
      "[596 rows x 6 columns]\n",
      "     Pclass  Sex        Age  SibSp  Parch     Fare\n",
      "0       1.0  1.0  48.000000    0.0    0.0  25.9292\n",
      "1       3.0  0.0  30.340381    0.0    0.0   7.8958\n",
      "2       2.0  1.0  17.000000    0.0    0.0  10.5000\n",
      "3       3.0  1.0  30.340381    0.0    0.0   8.1375\n",
      "4       2.0  1.0   7.000000    0.0    2.0  26.2500\n",
      "..      ...  ...        ...    ...    ...      ...\n",
      "290     3.0  0.0   2.000000    4.0    1.0  39.6875\n",
      "291     3.0  0.0  21.000000    0.0    0.0   7.7750\n",
      "292     3.0  1.0  43.000000    1.0    6.0  46.9000\n",
      "293     3.0  0.0  18.000000    0.0    0.0   7.7958\n",
      "294     3.0  0.0  30.340381    0.0    0.0   7.2292\n",
      "\n",
      "[295 rows x 6 columns]\n"
     ]
    }
   ],
   "source": [
    "print(imputed_X_train)\n",
    "print(imputed_X_test)"
   ]
  },
  {
   "cell_type": "code",
   "execution_count": 9,
   "metadata": {},
   "outputs": [
    {
     "name": "stdout",
     "output_type": "stream",
     "text": [
      "0.27033898305084747\n"
     ]
    }
   ],
   "source": [
    "# Using Decision Tree Regressor\n",
    "\n",
    "DTR_model = DecisionTreeRegressor(random_state = 1)\n",
    "DTR_model.fit(imputed_X_train, y_train)\n",
    "predictions_DTR = DTR_model.predict(imputed_X_test)\n",
    "print(mean_absolute_error(y_test, predictions_DTR))"
   ]
  },
  {
   "cell_type": "code",
   "execution_count": 10,
   "metadata": {},
   "outputs": [
    {
     "name": "stdout",
     "output_type": "stream",
     "text": [
      "0.26732065693252133\n"
     ]
    }
   ],
   "source": [
    "# Using Random Forests\n",
    "RFR_model = RandomForestRegressor(random_state = 1)\n",
    "RFR_model.fit(imputed_X_train, y_train)\n",
    "predictions_RFR = RFR_model.predict(imputed_X_test)\n",
    "print(mean_absolute_error(y_test,predictions_RFR))"
   ]
  },
  {
   "cell_type": "code",
   "execution_count": 11,
   "metadata": {},
   "outputs": [
    {
     "name": "stdout",
     "output_type": "stream",
     "text": [
      "0.3092064505258126\n"
     ]
    }
   ],
   "source": [
    "# Linear Regression\n",
    "\n",
    "LR_model = LinearRegression()\n",
    "LR_model.fit(imputed_X_train, y_train)\n",
    "predictions_LR = LR_model.predict(imputed_X_test)\n",
    "print(mean_absolute_error(y_test, predictions_LR))"
   ]
  },
  {
   "cell_type": "markdown",
   "metadata": {},
   "source": [
    "##### As we see that the mean absolute error for Random Forest Regressor is the least,hence we will use that algo to train our model and then predict our output"
   ]
  },
  {
   "cell_type": "code",
   "execution_count": 12,
   "metadata": {},
   "outputs": [
    {
     "name": "stdout",
     "output_type": "stream",
     "text": [
      "Index(['PassengerId', 'Survived', 'Pclass', 'Name', 'Sex', 'Age', 'SibSp',\n",
      "       'Parch', 'Ticket', 'Fare', 'Cabin', 'Embarked'],\n",
      "      dtype='object')\n",
      "Index(['PassengerId', 'Pclass', 'Name', 'Sex', 'Age', 'SibSp', 'Parch',\n",
      "       'Ticket', 'Fare', 'Cabin', 'Embarked'],\n",
      "      dtype='object')\n"
     ]
    }
   ],
   "source": [
    "# making datasets\n",
    "\n",
    "\n",
    "training_data = pd.read_csv('train.csv')\n",
    "testing_data = pd.read_csv('test.csv')\n",
    "\n",
    "print(training_data.columns)\n",
    "print(testing_data.columns)"
   ]
  },
  {
   "cell_type": "code",
   "execution_count": 13,
   "metadata": {},
   "outputs": [],
   "source": [
    "# Subsetting features\n",
    "\n",
    "features_data = ['Pclass','Sex','Age','SibSp','Parch','Fare']\n",
    "train_X = training_data[features_data]\n",
    "train_y = training_data['Survived']\n",
    "\n",
    "test_X = testing_data[features_data]"
   ]
  },
  {
   "cell_type": "code",
   "execution_count": 14,
   "metadata": {},
   "outputs": [
    {
     "name": "stderr",
     "output_type": "stream",
     "text": [
      "C:\\Anaconda\\lib\\site-packages\\ipykernel_launcher.py:5: SettingWithCopyWarning: \n",
      "A value is trying to be set on a copy of a slice from a DataFrame\n",
      "\n",
      "See the caveats in the documentation: https://pandas.pydata.org/pandas-docs/stable/user_guide/indexing.html#returning-a-view-versus-a-copy\n",
      "  \"\"\"\n",
      "C:\\Anaconda\\lib\\site-packages\\ipykernel_launcher.py:9: SettingWithCopyWarning: \n",
      "A value is trying to be set on a copy of a slice from a DataFrame\n",
      "\n",
      "See the caveats in the documentation: https://pandas.pydata.org/pandas-docs/stable/user_guide/indexing.html#returning-a-view-versus-a-copy\n",
      "  if __name__ == '__main__':\n",
      "C:\\Anaconda\\lib\\site-packages\\ipykernel_launcher.py:7: SettingWithCopyWarning: \n",
      "A value is trying to be set on a copy of a slice from a DataFrame\n",
      "\n",
      "See the caveats in the documentation: https://pandas.pydata.org/pandas-docs/stable/user_guide/indexing.html#returning-a-view-versus-a-copy\n",
      "  import sys\n",
      "C:\\Anaconda\\lib\\site-packages\\ipykernel_launcher.py:10: SettingWithCopyWarning: \n",
      "A value is trying to be set on a copy of a slice from a DataFrame\n",
      "\n",
      "See the caveats in the documentation: https://pandas.pydata.org/pandas-docs/stable/user_guide/indexing.html#returning-a-view-versus-a-copy\n",
      "  # Remove the CWD from sys.path while we load stuff.\n"
     ]
    }
   ],
   "source": [
    "# Changing the values of Sex to numerical data\n",
    "def change_sex(feat_data):\n",
    "    for i in range(len(feat_data['Sex'])):\n",
    "        if feat_data['Sex'][i] == 'male':\n",
    "            feat_data['Sex'][i] = 0\n",
    "        elif feat_data['Sex'][i] == 'female':\n",
    "            feat_data['Sex'][i] = 1\n",
    "\n",
    "change_sex(train_X)\n",
    "change_sex(test_X)"
   ]
  },
  {
   "cell_type": "code",
   "execution_count": 15,
   "metadata": {},
   "outputs": [],
   "source": [
    "# IMPUTING\n",
    "\n",
    "my_imputer = SimpleImputer()\n",
    "imputed_train_X = pd.DataFrame(my_imputer.fit_transform(train_X))\n",
    "imputed_test_X = pd.DataFrame(my_imputer.transform(test_X))\n",
    "\n",
    "# Imputation removed column names; put them back\n",
    "imputed_train_X.columns = train_X.columns\n",
    "imputed_test_X.columns = test_X.columns"
   ]
  },
  {
   "cell_type": "code",
   "execution_count": 16,
   "metadata": {
    "scrolled": true
   },
   "outputs": [
    {
     "name": "stdout",
     "output_type": "stream",
     "text": [
      "[9.00000000e-02 1.50000000e-01 6.80000000e-01 6.80000000e-01\n",
      " 4.00000000e-01 1.55000000e-01 1.36388889e-01 1.60000000e-01\n",
      " 8.90000000e-01 1.00000000e-01 0.00000000e+00 1.18500000e-01\n",
      " 1.00000000e+00 3.80000000e-01 1.00000000e+00 9.29166667e-01\n",
      " 4.28333333e-02 6.70000000e-01 6.20000000e-01 1.50000000e-01\n",
      " 2.60000000e-01 7.20000000e-01 1.00000000e+00 4.00000000e-01\n",
      " 9.50000000e-01 0.00000000e+00 1.00000000e+00 6.80000000e-01\n",
      " 7.60000000e-01 2.50000000e-01 0.00000000e+00 8.00000000e-02\n",
      " 8.10000000e-01 2.00000000e-01 6.30833333e-01 2.70000000e-01\n",
      " 7.00000000e-02 1.20000000e-01 2.00000000e-02 6.62559524e-01\n",
      " 4.29761905e-02 5.30349206e-01 1.65833333e-01 1.00000000e+00\n",
      " 1.00000000e+00 1.00000000e-02 3.32500000e-01 1.11805392e-01\n",
      " 9.90000000e-01 6.00000000e-01 6.00000000e-01 3.00000000e-02\n",
      " 9.10000000e-01 9.10000000e-01 8.00000000e-02 1.00000000e-02\n",
      " 0.00000000e+00 1.00000000e-02 0.00000000e+00 1.00000000e+00\n",
      " 6.58333333e-02 5.41500000e-01 7.14285714e-04 9.90000000e-01\n",
      " 6.70000000e-01 9.70000000e-01 6.40000000e-01 2.00000000e-02\n",
      " 5.00000000e-02 9.50000000e-01 8.40305556e-01 0.00000000e+00\n",
      " 4.90000000e-01 4.60000000e-01 1.00000000e+00 2.80000000e-01\n",
      " 0.00000000e+00 6.80000000e-01 3.00000000e-02 8.40305556e-01\n",
      " 9.90000000e-01 1.90000000e-01 2.50000000e-01 0.00000000e+00\n",
      " 3.90000000e-01 8.00000000e-02 9.60000000e-01 6.80000000e-01\n",
      " 8.87384754e-01 9.90000000e-01 2.60000000e-01 4.23109280e-01\n",
      " 8.80000000e-01 0.00000000e+00 3.30000000e-01 1.98333333e-01\n",
      " 1.00000000e+00 5.39166667e-01 7.10000000e-01 2.10000000e-01\n",
      " 1.00000000e+00 5.00000000e-02 1.11805392e-01 6.83333333e-02\n",
      " 7.50000000e-01 8.00000000e-02 1.80000000e-01 1.11805392e-01\n",
      " 2.00000000e-02 8.00000000e-03 4.91666667e-02 7.20519841e-01\n",
      " 1.00000000e+00 9.00000000e-01 1.00000000e+00 1.50000000e-01\n",
      " 0.00000000e+00 9.50000000e-01 2.70000000e-01 1.00000000e+00\n",
      " 1.00000000e+00 3.65968753e-02 1.00000000e+00 1.40000000e-01\n",
      " 1.11805392e-01 3.90000000e-01 1.90000000e-01 8.80000000e-01\n",
      " 4.67500000e-01 1.00000000e-02 7.13666667e-01 3.35000000e-01\n",
      " 1.00000000e-01 0.00000000e+00 1.38333333e-01 1.00000000e-02\n",
      " 2.70000000e-01 4.00000000e-02 1.40000000e-01 6.50000000e-02\n",
      " 3.00000000e-02 8.00000000e-01 2.80000000e-01 1.33333333e-02\n",
      " 7.71666667e-01 2.90000000e-01 2.00000000e-02 0.00000000e+00\n",
      " 5.30349206e-01 7.00000000e-02 1.00000000e+00 0.00000000e+00\n",
      " 7.00000000e-02 5.20000000e-01 6.00000000e-02 3.00000000e-02\n",
      " 1.00000000e+00 7.20000000e-01 7.71666667e-01 7.20000000e-01\n",
      " 9.80353175e-01 9.50000000e-01 8.05000000e-01 8.00000000e-02\n",
      " 3.28333333e-01 6.30000000e-01 2.90000000e-01 6.00000000e-02\n",
      " 1.00000000e+00 1.00000000e-01 0.00000000e+00 4.30000000e-01\n",
      " 1.00000000e-01 1.46858586e-01 7.00000000e-02 1.00000000e+00\n",
      " 1.00000000e+00 3.10000000e-01 9.80000000e-01 9.80000000e-01\n",
      " 3.00000000e-02 3.40000000e-01 1.00000000e+00 1.11805392e-01\n",
      " 9.30000000e-01 5.00000000e-03 9.40000000e-01 4.53333333e-01\n",
      " 1.00000000e-02 4.16666667e-02 3.00000000e-02 8.33333333e-02\n",
      " 7.20000000e-01 3.60000000e-01 7.90000000e-01 2.60000000e-01\n",
      " 9.40000000e-01 2.60000000e-01 6.66666667e-03 3.00000000e-02\n",
      " 8.90000000e-01 1.00000000e+00 2.70000000e-01 9.10000000e-01\n",
      " 6.66666667e-03 5.33333333e-02 2.11293651e-01 6.66666667e-03\n",
      " 1.00000000e+00 0.00000000e+00 4.17500000e-01 0.00000000e+00\n",
      " 9.00000000e-02 5.30000000e-01 1.10000000e-01 1.50000000e-01\n",
      " 9.70000000e-01 3.90000000e-01 9.80000000e-01 0.00000000e+00\n",
      " 9.30000000e-01 0.00000000e+00 9.16666667e-01 6.00000000e-01\n",
      " 9.50000000e-01 4.00000000e-01 1.00000000e-01 8.87384754e-01\n",
      " 1.50000000e-02 8.74166667e-02 1.70000000e-01 1.00000000e+00\n",
      " 8.50000000e-02 0.00000000e+00 4.00000000e-01 1.00000000e-02\n",
      " 4.00000000e-01 7.70000000e-01 8.38333333e-01 1.00000000e+00\n",
      " 9.50000000e-01 9.50000000e-01 3.40000000e-01 0.00000000e+00\n",
      " 1.10000000e-01 3.00000000e-01 9.32500000e-01 6.33333333e-02\n",
      " 1.00000000e+00 1.10000000e-01 6.20000000e-01 7.00000000e-02\n",
      " 5.10000000e-01 0.00000000e+00 1.17000000e-01 0.00000000e+00\n",
      " 1.11805392e-01 6.00000000e-02 9.08333333e-01 9.00000000e-02\n",
      " 0.00000000e+00 1.00000000e-02 9.90000000e-01 9.60000000e-01\n",
      " 3.00000000e-02 0.00000000e+00 0.00000000e+00 0.00000000e+00\n",
      " 7.00000000e-02 5.00000000e-03 1.30000000e-01 1.11805392e-01\n",
      " 9.30000000e-01 9.70000000e-01 0.00000000e+00 9.50000000e-01\n",
      " 3.00000000e-02 2.00000000e-02 0.00000000e+00 6.66666667e-03\n",
      " 9.00000000e-02 9.90000000e-01 8.87384754e-01 2.70000000e-01\n",
      " 8.70000000e-01 0.00000000e+00 7.50000000e-03 2.30000000e-01\n",
      " 1.46858586e-01 0.00000000e+00 5.00000000e-02 5.20000000e-01\n",
      " 1.46858586e-01 1.60000000e-01 2.00000000e-02 0.00000000e+00\n",
      " 6.00000000e-01 2.50000000e-01 0.00000000e+00 2.90000000e-01\n",
      " 1.49166667e-01 1.10000000e-01 3.33333333e-02 3.00000000e-02\n",
      " 8.87384754e-01 8.60000000e-01 4.50000000e-01 9.90000000e-01\n",
      " 2.50000000e-01 1.00000000e-02 4.20000000e-02 6.80000000e-01\n",
      " 0.00000000e+00 1.66293651e-01 9.90000000e-01 8.30000000e-01\n",
      " 4.40000000e-01 4.45833333e-01 1.40000000e-01 5.00000000e-02\n",
      " 6.83333333e-02 5.36507937e-02 4.00000000e-02 9.51333333e-01\n",
      " 1.00000000e+00 5.00000000e-02 1.00000000e+00 6.00000000e-02\n",
      " 4.00000000e-02 0.00000000e+00 9.70000000e-01 4.80000000e-01\n",
      " 0.00000000e+00 4.80000000e-01 1.00000000e-01 8.33333333e-02\n",
      " 5.23500000e-01 4.83376623e-02 1.90000000e-01 1.46858586e-01\n",
      " 1.89166667e-01 6.00000000e-02 1.57500000e-01 1.00000000e+00\n",
      " 6.10000000e-01 8.90000000e-01 4.00000000e-02 1.80000000e-01\n",
      " 2.00000000e-02 9.70000000e-01 1.00000000e+00 6.66666667e-03\n",
      " 3.00000000e-02 1.70000000e-01 8.70000000e-01 2.60000000e-01\n",
      " 1.00000000e+00 0.00000000e+00 1.11805392e-01 8.70000000e-01\n",
      " 1.00000000e-01 1.00000000e+00 9.70000000e-01 6.80000000e-01\n",
      " 9.40000000e-01 4.30000000e-01 7.00000000e-02 3.60000000e-01\n",
      " 1.00000000e+00 4.80000000e-01 4.66666667e-02 1.00000000e+00\n",
      " 1.15000000e-01 3.82500000e-01 1.00000000e+00 9.90000000e-01\n",
      " 8.00000000e-02 5.00000000e-03 8.00000000e-02 2.80000000e-01\n",
      " 1.11805392e-01 0.00000000e+00 1.90000000e-01 2.60000000e-01\n",
      " 6.80000000e-01 1.00000000e+00 4.83333333e-02 2.75000000e-02\n",
      " 6.32142857e-02 1.30000000e-01 3.00000000e-01 9.50000000e-01\n",
      " 3.80000000e-01 6.50000000e-02 1.70000000e-01 1.00000000e+00\n",
      " 9.00000000e-02 1.00000000e+00 2.50000000e-02 2.00000000e-02\n",
      " 9.90000000e-01 0.00000000e+00 1.00000000e+00 4.50000000e-01\n",
      " 1.08333333e-01 1.50000000e-01 4.33333333e-02 2.40000000e-01\n",
      " 9.80353175e-01 8.10000000e-01 8.87384754e-01 1.00000000e+00\n",
      " 6.21293651e-01 0.00000000e+00 1.00000000e+00 0.00000000e+00\n",
      " 0.00000000e+00 1.70000000e-01]\n"
     ]
    }
   ],
   "source": [
    "# Using Random Forests\n",
    "RFR_model_final = RandomForestRegressor(random_state = 1)\n",
    "RFR_model_final.fit(imputed_train_X, train_y)\n",
    "predictions_RFR_final = RFR_model_final.predict(imputed_test_X)\n",
    "print(predictions_RFR_final)"
   ]
  },
  {
   "cell_type": "code",
   "execution_count": 17,
   "metadata": {},
   "outputs": [
    {
     "data": {
      "text/plain": [
       "418"
      ]
     },
     "execution_count": 17,
     "metadata": {},
     "output_type": "execute_result"
    }
   ],
   "source": [
    "len(predictions_RFR_final) # Length of predictions"
   ]
  },
  {
   "cell_type": "code",
   "execution_count": 18,
   "metadata": {},
   "outputs": [
    {
     "data": {
      "text/plain": [
       "(418, 6)"
      ]
     },
     "execution_count": 18,
     "metadata": {},
     "output_type": "execute_result"
    }
   ],
   "source": [
    "test_X.shape # Checking shape of Test Data just to be sure"
   ]
  },
  {
   "cell_type": "code",
   "execution_count": 19,
   "metadata": {},
   "outputs": [],
   "source": [
    "# rounding off to 0 or 1\n",
    "\n",
    "pred_val = []\n",
    "for el in predictions_RFR_final:\n",
    "    tenp = round(el)\n",
    "    pred_val.append(tenp)"
   ]
  },
  {
   "cell_type": "code",
   "execution_count": 20,
   "metadata": {},
   "outputs": [
    {
     "name": "stdout",
     "output_type": "stream",
     "text": [
      "[0, 0, 1, 1, 0, 0, 0, 0, 1, 0, 0, 0, 1, 0, 1, 1, 0, 1, 1, 0, 0, 1, 1, 0, 1, 0, 1, 1, 1, 0, 0, 0, 1, 0, 1, 0, 0, 0, 0, 1, 0, 1, 0, 1, 1, 0, 0, 0, 1, 1, 1, 0, 1, 1, 0, 0, 0, 0, 0, 1, 0, 1, 0, 1, 1, 1, 1, 0, 0, 1, 1, 0, 0, 0, 1, 0, 0, 1, 0, 1, 1, 0, 0, 0, 0, 0, 1, 1, 1, 1, 0, 0, 1, 0, 0, 0, 1, 1, 1, 0, 1, 0, 0, 0, 1, 0, 0, 0, 0, 0, 0, 1, 1, 1, 1, 0, 0, 1, 0, 1, 1, 0, 1, 0, 0, 0, 0, 1, 0, 0, 1, 0, 0, 0, 0, 0, 0, 0, 0, 0, 0, 1, 0, 0, 1, 0, 0, 0, 1, 0, 1, 0, 0, 1, 0, 0, 1, 1, 1, 1, 1, 1, 1, 0, 0, 1, 0, 0, 1, 0, 0, 0, 0, 0, 0, 1, 1, 0, 1, 1, 0, 0, 1, 0, 1, 0, 1, 0, 0, 0, 0, 0, 1, 0, 1, 0, 1, 0, 0, 0, 1, 1, 0, 1, 0, 0, 0, 0, 1, 0, 0, 0, 0, 1, 0, 0, 1, 0, 1, 0, 1, 0, 1, 1, 1, 0, 0, 1, 0, 0, 0, 1, 0, 0, 0, 0, 0, 1, 1, 1, 1, 1, 0, 0, 0, 0, 1, 0, 1, 0, 1, 0, 1, 0, 0, 0, 0, 0, 1, 0, 0, 0, 1, 1, 0, 0, 0, 0, 0, 0, 0, 0, 1, 1, 0, 1, 0, 0, 0, 0, 0, 1, 1, 0, 1, 0, 0, 0, 0, 0, 0, 1, 0, 0, 0, 0, 1, 0, 0, 0, 0, 0, 0, 0, 1, 1, 0, 1, 0, 0, 0, 1, 0, 0, 1, 1, 0, 0, 0, 0, 0, 0, 0, 1, 1, 0, 1, 0, 0, 0, 1, 0, 0, 0, 0, 0, 1, 0, 0, 0, 0, 0, 0, 1, 1, 1, 0, 0, 0, 1, 1, 0, 0, 0, 1, 0, 1, 0, 0, 1, 0, 1, 1, 1, 1, 0, 0, 0, 1, 0, 0, 1, 0, 0, 1, 1, 0, 0, 0, 0, 0, 0, 0, 0, 1, 1, 0, 0, 0, 0, 0, 1, 0, 0, 0, 1, 0, 1, 0, 0, 1, 0, 1, 0, 0, 0, 0, 0, 1, 1, 1, 1, 1, 0, 1, 0, 0, 0]\n"
     ]
    }
   ],
   "source": [
    "print(pred_val) # printing"
   ]
  },
  {
   "cell_type": "code",
   "execution_count": 21,
   "metadata": {},
   "outputs": [
    {
     "name": "stdout",
     "output_type": "stream",
     "text": [
      "0       892\n",
      "1       893\n",
      "2       894\n",
      "3       895\n",
      "4       896\n",
      "       ... \n",
      "413    1305\n",
      "414    1306\n",
      "415    1307\n",
      "416    1308\n",
      "417    1309\n",
      "Name: PassengerId, Length: 418, dtype: int64\n"
     ]
    }
   ],
   "source": [
    "print(testing_data.PassengerId) # printing Passenger ID"
   ]
  },
  {
   "cell_type": "code",
   "execution_count": 22,
   "metadata": {},
   "outputs": [],
   "source": [
    "file = pd.DataFrame(pred_val) # making DataFrame of Predicted values"
   ]
  },
  {
   "cell_type": "code",
   "execution_count": 23,
   "metadata": {},
   "outputs": [],
   "source": [
    "file.to_csv('file3.csv', index = False) #exporting"
   ]
  }
 ],
 "metadata": {
  "kernelspec": {
   "display_name": "Python 3",
   "language": "python",
   "name": "python3"
  },
  "language_info": {
   "codemirror_mode": {
    "name": "ipython",
    "version": 3
   },
   "file_extension": ".py",
   "mimetype": "text/x-python",
   "name": "python",
   "nbconvert_exporter": "python",
   "pygments_lexer": "ipython3",
   "version": "3.7.6"
  }
 },
 "nbformat": 4,
 "nbformat_minor": 4
}
